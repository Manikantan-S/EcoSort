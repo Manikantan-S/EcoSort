{
 "cells": [
  {
   "cell_type": "code",
   "execution_count": null,
   "metadata": {},
   "outputs": [],
   "source": [
    "import numpy as np\n",
    "import pandas as pd\n",
    "\n",
    "import matplotlib.pyplot as plt\n",
    "import matplotlib.image as mpimg "
   ]
  },
  {
   "cell_type": "code",
   "execution_count": null,
   "metadata": {},
   "outputs": [],
   "source": [
    "import zipfile\n",
    "import os\n",
    "\n",
    "local_zip = 'waste classification.zip'\n",
    "zip_ref = zipfile.ZipFile(local_zip, 'r')\n",
    "zip_ref.extractall('')\n",
    "zip_ref.close()"
   ]
  },
  {
   "cell_type": "code",
   "execution_count": null,
   "metadata": {},
   "outputs": [],
   "source": [
    "base_dir = 'DATASET'\n",
    "train_dir = os.path.join(base_dir, 'TRAIN')\n",
    "validation_dir = os.path.join(base_dir, 'TEST')\n",
    "\n",
    "train_organic_dir = os.path.join(train_dir, 'O')\n",
    "\n",
    "train_recycle_dir = os.path.join(train_dir, 'R')\n",
    "\n",
    "validation_organic_dir = os.path.join(validation_dir, 'O')\n",
    "\n",
    "validation_recycle_dir = os.path.join(validation_dir, 'R')\n",
    "\n",
    "print('total training organic images:', len(os.listdir(train_organic_dir)))\n",
    "print('total training recycyle images:', len(os.listdir(train_recycle_dir)))\n",
    "print('total validation organic images:', len(os.listdir(validation_organic_dir)))\n",
    "print('total validation recycyle images:', len(os.listdir(validation_recycle_dir)))"
   ]
  },
  {
   "cell_type": "code",
   "execution_count": null,
   "metadata": {},
   "outputs": [],
   "source": [
    "train_organic_fnames = os.listdir(train_organic_dir)\n",
    "train_recycle_fnames = os.listdir(train_recycle_dir)\n",
    "train_recycle_fnames.sort()\n",
    "\n",
    "nrows = 2\n",
    "ncols = 4\n",
    "\n",
    "pic_index = 0\n",
    "\n",
    "\n",
    "fig = plt.gcf()\n",
    "fig.set_size_inches(ncols * 4, nrows *4)\n",
    "\n",
    "pic_index += 4\n",
    "next_organic_pix = [os.path.join(train_organic_dir, fname) \n",
    "                for fname in train_organic_fnames[pic_index-4:pic_index]]\n",
    "next_recycle_pix = [os.path.join(train_recycle_dir, fname) \n",
    "                for fname in train_recycle_fnames[pic_index-4:pic_index]]\n",
    "\n",
    "for i, img_path in enumerate(next_organic_pix + next_recycle_pix):\n",
    "  sp = plt.subplot(nrows, ncols, i + 1)\n",
    "  sp.axis('Off')\n",
    "\n",
    "  img = mpimg.imread(img_path)\n",
    "  plt.imshow(img)\n",
    "  print(img.shape)\n",
    "\n",
    "plt.show()"
   ]
  }
 ],
 "metadata": {
  "kernelspec": {
   "display_name": "Python 3",
   "language": "python",
   "name": "python3"
  },
  "language_info": {
   "codemirror_mode": {
    "name": "ipython",
    "version": 3
   },
   "file_extension": ".py",
   "mimetype": "text/x-python",
   "name": "python",
   "nbconvert_exporter": "python",
   "pygments_lexer": "ipython3",
   "version": "3.9.6"
  }
 },
 "nbformat": 4,
 "nbformat_minor": 2
}
